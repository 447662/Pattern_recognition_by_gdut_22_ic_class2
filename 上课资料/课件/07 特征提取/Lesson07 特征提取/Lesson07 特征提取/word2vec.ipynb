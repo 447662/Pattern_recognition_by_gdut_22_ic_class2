{
 "cells": [
  {
   "cell_type": "markdown",
   "metadata": {},
   "source": [
    "# 第八个实例：文本的特征提取"
   ]
  },
  {
   "cell_type": "markdown",
   "metadata": {},
   "source": [
    "## 1 One-hot编码"
   ]
  },
  {
   "cell_type": "markdown",
   "metadata": {},
   "source": [
    "One-hot编码也称之为独热编码，是自然语言处理(NLP)里常用的文本特征提取方法。"
   ]
  },
  {
   "cell_type": "markdown",
   "metadata": {},
   "source": [
    "导入库："
   ]
  },
  {
   "cell_type": "code",
   "execution_count": 1,
   "metadata": {},
   "outputs": [],
   "source": [
    "import numpy as np\n",
    "from sklearn.preprocessing import OneHotEncoder"
   ]
  },
  {
   "cell_type": "markdown",
   "metadata": {},
   "source": [
    "定义输出形式："
   ]
  },
  {
   "cell_type": "code",
   "execution_count": 2,
   "metadata": {},
   "outputs": [],
   "source": [
    "def onehot_encode(x):          #输入为一个列表，如x=['体育', '军事', '娱乐', '教育', '文化']\n",
    "    ohe = OneHotEncoder()     #onehot编码方法\n",
    "    ind = list(range(len(x)))      #获得索引列表\n",
    "    ohe.fit(np.array([ind]).T)    #数据转成列向量，然后fit是看可以取多少个值\n",
    "    x_processed = ohe.transform(np.array([ind]).T).toarray()  #然后转成one-hot编码，再转成数组\n",
    "    label_dict ={}          #构建键值为对象及对应one-hot列表的字典\n",
    "    label_id_dict={}        #构建键值为对象及对应索引的字典\n",
    "    for index in ind:\n",
    "        if x[index] not in label_dict.keys():\n",
    "            label_dict[x[index]] = x_processed[index].tolist()   #添加键值对，onehot编码为列表形式\n",
    "            #每个数据对应一个id，该id即为one-hot编码1所在的位置\n",
    "            for order in range(len(label_dict[x[index]])):\n",
    "                if label_dict[x[index]][order] == 1:\n",
    "                    label_id_dict[x[index]] = order\n",
    "    \n",
    "    return label_dict,label_id_dict\n"
   ]
  },
  {
   "cell_type": "markdown",
   "metadata": {},
   "source": [
    "运行："
   ]
  },
  {
   "cell_type": "code",
   "execution_count": 3,
   "metadata": {},
   "outputs": [
    {
     "data": {
      "text/plain": [
       "({'体育': [1.0, 0.0, 0.0, 0.0, 0.0, 0.0, 0.0, 0.0],\n",
       "  '军事': [0.0, 1.0, 0.0, 0.0, 0.0, 0.0, 0.0, 0.0],\n",
       "  '娱乐': [0.0, 0.0, 1.0, 0.0, 0.0, 0.0, 0.0, 0.0],\n",
       "  '教育': [0.0, 0.0, 0.0, 1.0, 0.0, 0.0, 0.0, 0.0],\n",
       "  '文化': [0.0, 0.0, 0.0, 0.0, 1.0, 0.0, 0.0, 0.0],\n",
       "  '时尚': [0.0, 0.0, 0.0, 0.0, 0.0, 1.0, 0.0, 0.0],\n",
       "  '科技': [0.0, 0.0, 0.0, 0.0, 0.0, 0.0, 1.0, 0.0],\n",
       "  '财经': [0.0, 0.0, 0.0, 0.0, 0.0, 0.0, 0.0, 1.0]},\n",
       " {'体育': 0, '军事': 1, '娱乐': 2, '教育': 3, '文化': 4, '时尚': 5, '科技': 6, '财经': 7})"
      ]
     },
     "execution_count": 3,
     "metadata": {},
     "output_type": "execute_result"
    }
   ],
   "source": [
    "x=['体育', '军事', '娱乐', '教育', '文化', '时尚', '科技', '财经']\n",
    "onehot_encode(x)"
   ]
  },
  {
   "cell_type": "markdown",
   "metadata": {},
   "source": [
    "从结果看one-hot编码的特点：\n",
    "1.\tOne-hot向量存在稀疏性（sparse），向量中大部分元素是0\n",
    "2.\t每一个向量相互垂直（orthogonal representations），词之间相互独立\n",
    "3.\t无法表达相关词背后的语义（semantically weak）\n"
   ]
  },
  {
   "cell_type": "markdown",
   "metadata": {},
   "source": [
    "有关one-hot编码的具体使用方法参见https://scikit-learn.org/stable/modules/generated/sklearn.preprocessing.OneHotEncoder.html#sklearn.preprocessing.OneHotEncoder"
   ]
  },
  {
   "cell_type": "markdown",
   "metadata": {},
   "source": [
    "# 2 词向量与word2vec"
   ]
  },
  {
   "cell_type": "markdown",
   "metadata": {},
   "source": [
    "    1)Word2vec是Google在2013年开源的一款用于词向量计算的工具，可以在百万数量级的词典和上亿的数据集上进行高效地训练。\n",
    "    2)该工具训练得到的词向量（word embedding），可以很好地度量词与词之间的相似性。\n",
    "    3)Word2vec采用浅层神经网络模型：CBOW模型和Skip-gram模型。"
   ]
  },
  {
   "cell_type": "markdown",
   "metadata": {},
   "source": [
    "### 准备工作"
   ]
  },
  {
   "cell_type": "markdown",
   "metadata": {},
   "source": [
    "    1）安装gensim包：pip install gensim\n",
    "    2）安装jieba包：conda install jieba\n",
    "    3）安装繁体字转简体字包：pip install zhconv "
   ]
  },
  {
   "cell_type": "markdown",
   "metadata": {},
   "source": [
    "导入库"
   ]
  },
  {
   "cell_type": "code",
   "execution_count": 1,
   "metadata": {},
   "outputs": [],
   "source": [
    "from gensim.corpora import WikiCorpus    #导入Wiki语料库\n",
    "from gensim.models import word2vec      #导入word2vec模型\n",
    "import zhconv                          #导入zhconv模块\n",
    "import jieba                           #导入jieba分词模块\n",
    "import re                              #导入正则表达式模块\n",
    "import multiprocessing                 #导入多进程模块"
   ]
  },
  {
   "cell_type": "markdown",
   "metadata": {},
   "source": [
    "加载数据并提取内容"
   ]
  },
  {
   "cell_type": "code",
   "execution_count": 6,
   "metadata": {},
   "outputs": [
    {
     "name": "stdout",
     "output_type": "stream",
     "text": [
      "开始处理数据\n"
     ]
    },
    {
     "ename": "ParseError",
     "evalue": "not well-formed (invalid token): line 1762523, column 4 (<string>)",
     "output_type": "error",
     "traceback": [
      "Traceback \u001b[1;36m(most recent call last)\u001b[0m:\n",
      "\u001b[0m  File \u001b[0;32mC:\\anaconda3\\Lib\\site-packages\\IPython\\core\\interactiveshell.py:3505\u001b[0m in \u001b[0;35mrun_code\u001b[0m\n    exec(code_obj, self.user_global_ns, self.user_ns)\u001b[0m\n",
      "\u001b[0m  Cell \u001b[0;32mIn[6], line 13\u001b[0m\n    for text in input_file.get_texts():\u001b[0m\n",
      "\u001b[0m  File \u001b[0;32mC:\\anaconda3\\Lib\\site-packages\\gensim\\corpora\\wikicorpus.py:692\u001b[0m in \u001b[0;35mget_texts\u001b[0m\n    for group in utils.chunkize(texts, chunksize=10 * self.processes, maxsize=1):\u001b[0m\n",
      "\u001b[0m  File \u001b[0;32mC:\\anaconda3\\Lib\\site-packages\\gensim\\utils.py:1334\u001b[0m in \u001b[0;35mchunkize\u001b[0m\n    for chunk in chunkize_serial(corpus, chunksize, as_numpy=as_numpy):\u001b[0m\n",
      "\u001b[0m  File \u001b[0;32mC:\\anaconda3\\Lib\\site-packages\\gensim\\utils.py:1244\u001b[0m in \u001b[0;35mchunkize_serial\u001b[0m\n    wrapped_chunk = [list(itertools.islice(it, int(chunksize)))]\u001b[0m\n",
      "\u001b[0m  File \u001b[0;32mC:\\anaconda3\\Lib\\site-packages\\gensim\\corpora\\wikicorpus.py:682\u001b[0m in \u001b[0;35m<genexpr>\u001b[0m\n    texts = (\u001b[0m\n",
      "\u001b[0m  File \u001b[0;32mC:\\anaconda3\\Lib\\site-packages\\gensim\\corpora\\wikicorpus.py:421\u001b[0m in \u001b[0;35mextract_pages\u001b[0m\n    for elem in elems:\u001b[0m\n",
      "\u001b[0m  File \u001b[0;32mC:\\anaconda3\\Lib\\site-packages\\gensim\\corpora\\wikicorpus.py:406\u001b[0m in \u001b[0;35m<genexpr>\u001b[0m\n    elems = (elem for _, elem in iterparse(f, events=(\"end\",)))\u001b[0m\n",
      "\u001b[0m  File \u001b[0;32mC:\\anaconda3\\Lib\\xml\\etree\\ElementTree.py:1249\u001b[0m in \u001b[0;35miterator\u001b[0m\n    yield from pullparser.read_events()\u001b[0m\n",
      "\u001b[0m  File \u001b[0;32mC:\\anaconda3\\Lib\\xml\\etree\\ElementTree.py:1320\u001b[0m in \u001b[0;35mread_events\u001b[0m\n    raise event\u001b[0m\n",
      "\u001b[1;36m  File \u001b[1;32mC:\\anaconda3\\Lib\\xml\\etree\\ElementTree.py:1292\u001b[1;36m in \u001b[1;35mfeed\u001b[1;36m\n\u001b[1;33m    self._parser.feed(data)\u001b[1;36m\n",
      "\u001b[1;36m  File \u001b[1;32m<string>\u001b[1;36m\u001b[0m\n\u001b[1;31mParseError\u001b[0m\u001b[1;31m:\u001b[0m not well-formed (invalid token): line 1762523, column 4\n"
     ]
    }
   ],
   "source": [
    "input_file_name = 'zhwiki-latest-pages-articles.xml.bz2'  #数据集名称，有后缀\n",
    "output_file_name = 'corpus_cn.txt'                   #输出文件的名称\n",
    "#加载数据\n",
    "\n",
    "\n",
    "input_file = WikiCorpus(input_file_name, dictionary={})\n",
    "\n",
    "with open(output_file_name, 'w', encoding=\"utf8\") as output_file:\n",
    "    print(\"开始处理数据\")\n",
    "    count = 0\n",
    "#使用WikiCorpus类中的get_texts()方法读取文件，每篇文章转换为一行文本，并去掉标签符号等内容\n",
    "    for text in input_file.get_texts():           \n",
    "        output_file.write(' '.join(text) + '\\n')\n",
    "        count = count + 1\n",
    "        if count % 10000 == 0:\n",
    "            print('已处理%d条数据' % count)            \n",
    "print('处理完成！')\n",
    "#查看处理结果\n",
    "with open('corpus_cn.txt',\"r\",encoding=\"utf8\") as f:\n",
    "    print(f.readlines()[:1])"
   ]
  },
  {
   "cell_type": "markdown",
   "metadata": {},
   "source": [
    "繁体字转简体字"
   ]
  },
  {
   "cell_type": "code",
   "execution_count": 7,
   "metadata": {},
   "outputs": [
    {
     "name": "stdout",
     "output_type": "stream",
     "text": [
      "处理完成！\n",
      "['欧几里得 西元前三世纪的古希腊数学家 现在被认为是几何之父 此画为拉斐尔的作品 雅典学院 数学 是利用符号语言研究数量 结构 变化以及空间等概念的一门学科 从某种角度看属于形式科学的一种 数学透过抽象化和逻辑推理的使用 由计数 计算 数学家们拓展这些概念 对数学基本概念的完善 早在古埃及 而在古希腊那里有更为严谨的处理 从那时开始 数学的发展便持续不断地小幅进展 世纪的文艺复兴时期 致使数学的加速发展 直至今日 今日 数学使用在不同的领域中 包括科学 工程 医学 经济学和金融学等 有时亦会激起新的数学发现 并导致全新学科的发展 数学家也研究纯数学 就是数学本身的实质性内容 而不以任何实际应用为目标 虽然许多研究以纯数学开始 但其过程中也发现许多应用之处 词源 西方语言中 数学 一词源自于古希腊语的 其有 学习 学问 科学 数学研究 即使在其语源内 其形容词 意思为 和学习有关的 用功的 亦会被用来指 数学的 其在英语中表面上的复数形式 及在法语中的表面复数形式 可溯至拉丁文的中性复数 由西塞罗译自希腊文复数 此一希腊语被亚里士多德拿来指 万物皆数 的概念 汉字表示的 数学 一词大约产生于中国宋元时期 多指象数之学 但有时也含有今天上的数学意义 例如 秦九韶的 数学九章 永乐大典 数书九章 也被宋代周密所著的 癸辛杂识 记为 数学大略 数学通轨 明代柯尚迁著 数学钥 清代杜知耕著 数学拾遗 清代丁取忠撰 直到 经过中国数学名词审查委员会研究 算学 数学 两词的使用状况后 确认以 数学 表示今天意义上的数学含义 历史 奇普 印加帝国时所使用的计数工具 玛雅数字 数学有着久远的历史 中国古代的六艺之一就有 数学一词在西方有希腊语词源 mathematikós 意思是 学问的基础 源于 máthema 科学 知识 学问 时间的长短等抽象的数量关系 比如时间单位有日 季节和年等 算术 加减乘除 也自然而然地产生了 历史上曾有过许多不同的记数系统 在最初有历史记录的时候 为了解数字间的关系 为了测量土地 以及为了预测天文事件而形成的 结构 空间及时间方面的研究 到了 世纪 算术 微积分的概念也在此时形成 随着数学转向形式化 从古至今 数学便一直不断地延展 且与科学有丰富的相互作用 两者的发展都受惠于彼此 在历史上有著许多数学发现 并且直至今日都不断地有新的发现 据mikhail sevryuk于 月的期刊中所说 数学评论的创刊年份 现已超过了一百九十万份 而且每年还增加超过七万五千份 形成 纯数学与应用数学及美学 牛顿 微积分的发明者之一 每当有涉及数量 结构 空间及变化等方面的困难问题时 而这往往也拓展了数学的研究范畴 一开始 数学的运用可见于贸易 土地测量及之后的天文学 今日 且数学本身亦给出了许多的问题 牛顿和莱布尼兹是微积分的发明者 费曼发明了费曼路径积分 这是推理及物理洞察二者的产物 而今日的弦理论亦引申出新的数学 一些数学只和生成它的领域有关 且用来解答此领域的更多问题 且可以成为一般的数学概念 即使是 最纯的 数学通常亦有实际的用途 此一非比寻常的事实 年诺贝尔物理奖得主维格纳称为 如同大多数的研究领域 主要的分歧为纯数学和应用数学 在应用数学内 又被分成两大领域 并且变成了它们自身的学科 统计学和电脑科学 许多数学家谈论数学的 优美 其内在的美学及美 简单 一般化 即为美的一种 另外亦包括巧妙的证明 又或者是加快计算的数值方法 如快速傅立叶变换 高德菲 哈罗德 哈代在 一个数学家的自白 符号 语言与精确性 在现代的符号中 此一图像即产生自x cos arccos sin〡 arcsin cos〡 世纪后才被发明出来的 在此之前 数学以文字的形式书写出来 这种形式会限制了数学的发展 但初学者却常对此望而却步 它被极度的压缩 少量的符号包含著大量的讯息 如同音乐符号一般 现今的数学符号有明确的语法 并且有效地对讯息作编码 这是其他书写方式难以做到的 符号化和形式化使得数学迅速发展 数学语言亦对初学者而言感到困难 亦困恼著初学者的 开放 等字在数学里有著特别的意思 数学术语亦包括如 同胚 可积性 等专有名词 数学需要比日常用语更多的精确性 严谨 但在现实应用中 定理 希腊人期许著仔细的论证 但在牛顿的时代 所使用的方法则较不严谨 牛顿为了解决问题所做的定义 今日 当大量的计算难以被验证时 其证明亦很难说是足够地严谨 公理在传统的思想中是 不证自明的真理 但这种想法是有问题的 在形式上 公理只是一串符号 但依据哥德尔不完备定理 尽管如此 在此意义下 数学作为科学 卡尔 弗里德里希 高斯 卡尔 弗里德里希 高斯称数学为 科学的皇后 在拉丁原文 以及其德语 对应于 科学 的单字的意思皆为知识 领域 而实际上 科学 若认为科学是只指物理的世界时 则数学 或至少是纯数学 不会是一门科学 爱因斯坦曾如此描述 数学定律越和现实有关 它们越不确定 若它们越是确定的话 它们和现实越不会有关 且因此不是卡尔 波普尔所定义的科学 但在 年代时 且波普尔推断 大部份的数学定律 如物理及生物学一样 是假设演绎的 比它现在看起来更接近 然而 其他的思想家 如较著名的拉卡托斯 另一观点则为某些科学领域 如理论物理 是其公理为尝试著符合现实的数学 而事实上 理论物理学家齐曼 john ziman 即认为科学是一种公众知识 因此亦包含著数学 在任何的情况下 减轻了数学不使用科学方法的缺点 在史蒂芬 沃尔夫勒姆 年的著作 一种新科学 中他提出 数学家对此的态度并不一致 且因此基本上是个哲学家 是低估了其美学方面的重要性 被创造 如艺术 或是 被发现 如科学 的争议 大学院系划分中常见 科学和数学系 实际上 但在细节上却会分开 数学的各领域 有如反映在中国算盘上的一般 如上所述 了解数字间的关系 测量土地及预测天文事件 这四种需要大致地与数量 结构 空间及变化 即算术 代数 几何及分析 等数学上广泛的子领域相关连著 除了上述主要的关注之外 至逻辑 至集合论 基础 至不同科学的经验上的数学 应用数学 及较近代的至不确定性的严格研究 基础与哲学 为了阐明数学基础 并研究此一架构的结果 就数学逻辑本身而言 现代逻辑被分成递归论 模型论和证明论 千禧年大奖难题中的p px px 数学逻辑 集合论 范畴论 纯粹数学 数量 数量的研究起于数 孪生质数猜想及哥德巴赫猜想 当数系更进一步发展时 整数被视为有理数的子集 而有理数则包含于实数中 连续的量即是以实数来表示的 实数则可以被进一步广义化成复数 从自然数亦可以推广到超限数 它形式化了计数至无限的这一概念 另一个研究的领域为大小 阿列夫数 自然数 整数 有理数 实数 复数 结构 这些物件的结构性质被探讨于群 zh cn zh tw 等抽象系统中 该些物件事实上也就是这样的系统 此为代数的领域 在此有一个很重要的概念 即广义化至向量空间的向量 它于线性代数中被研究 数量 结构及空间 即变化 纯粹数学 是研究抽象结构的理论 结构 布尔巴基学派认为 有三种基本的抽象结构 代数结构 序结构 偏序 全序 拓扑结构 邻域 极限 连通性 维数 px px px px 数论 群论 图论 序理论 空间 空间的研究源自于几何 尤其是欧几里得几何 三角学则结合了空间及数 且包含有著名的勾股定理 非欧几里得几何 及拓扑学 数和空间在解析几何 结合了数和空间的概念 亦有著拓扑群的研究 结合了结构与空间 李群被用来研究空间 结构及变化 在其许多分支中 并包含有存在已久的庞加莱猜想 以及有争议的四色定理 庞加莱猜想已在 年确认由俄罗斯数学家格里戈里 佩雷尔曼证明 而四色定理已在 年由凯尼斯 阿佩尔和沃夫冈 哈肯用电脑证明 而从来没有由人力来验证过 px px px px px px 几何 三角学 微分几何 拓扑学 zh cn 分形 zh tw 碎形 测度论 变化 而微积分更为研究变化的有利工具 函数诞生于此 做为描述一变化的量的核心概念 而复分析则为复数的等价领域 黎曼猜想 数学最基本的未决问题之一 便是以复分析来描述的 泛函分析注重在函数的 一般为无限维 空间上 而这在微分方程中被研究 px px px px px px 微积分 向量分析 微分方程 动力系统 混沌理论 复分析 离散数学 这包含有可计算理论 计算复杂性理论及资讯理论 这包含现知最有力的模型 图灵机 尽管电脑硬体的快速进步 最后 且因此有压缩及熵等概念 作为一相对较新的领域 离散数学有许多基本的未解问题 其中最有名的为p np问题 千禧年大奖难题之一 一般相信此问题的解答是否定的 px px px 组合数学 计算理论 密码学 图论 应用数学 工商业及其他领域上之现实问题 应用数学中的一重要领域为统计学 分析与预测 大部份的实验 而比较觉得是合作团体的一份子 数值分析研究有什么计算方法 file gravitation space source png 数学物理 file svg 数学流体力学 file composite trapezoidal rule illustration small svg 数值分析 file maximum boxed png 最佳化 file two red dice svg 概率论 file oldfaithful png 统计学 file market data index nya on utc png 计量金融 file arbitrary gametree solved svg zh tw 赛局理论 zh cn 博弈论 file front pareto svg 数理经济学 file signal transduction pathways zh cn svg 生物数学 file linear programming example graph zh png 作业研究 file simple feedback control loop svg 控制论 数学奖项 菲尔兹奖牌正面 数学奖通常和其他科学的奖项分开 数学上最有名的奖为菲尔兹奖 创立于 每四年颁奖一次 创立于 两者都颁奖于特定的工作主题 著名的 个问题 称为希尔伯特的 个问题 年由德国数学家大卫 希尔伯特所提出 另一新的七个重要问题 称为千禧年大奖难题 发表于 而当中只有一个问题 黎曼猜想 和希尔伯特的问题重复 菲尔兹奖 每四年颁奖一次 颁给有卓越贡献的年轻数学家 每次最多四人得奖 得奖者须在该年元旦前未满四十岁 是年轻数学家可以获得的最大奖项 它是据加拿大数学家约翰 查尔斯 菲尔兹的要求设立的 菲尔兹奖被视为 数学 界的诺贝尔奖 沃尔夫奖 由沃尔夫基金会颁发 该基金会于 年在以色列创立 年开始颁奖 创始人里卡多 沃尔夫是外交家 实业家和慈善家 阿贝尔奖 每年颁发一次 为了纪念 年挪威著名数学家尼尔斯 亨利克 阿贝尔二百周年诞辰 挪威政府宣布将开始颁发此种奖金 奖金的数额大致同诺贝尔奖相近 年挪威政府拨款 亿挪威克朗作为启动资金 扩大数学的影响 参见 数学哲学 数学游戏 数学家列表 教育 算经十书 数学竞赛 数学题 注记 参考书目 benson donald the moment of proof mathematical epiphanies oxford university press usa new ed edition december isbn boyer carl history of mathematics wiley edition march isbn concise history of mathematics from the concept of number to contemporary mathematics courant and robbins what is mathematics an elementary approach to ideas and methods oxford university press usa edition july isbn davis philip and hersh reuben the mathematical experience mariner books reprint edition january isbn gentle introduction to the world of mathematics eves howard an introduction to the history of mathematics sixth edition saunders isbn gullberg jan mathematics from the birth of numbers norton company st edition october isbn an encyclopedic overview of mathematics presented in clear simple language hazewinkel michiel ed 数学百科全书 kluwer academic publishers translated and expanded version of soviet mathematics encyclopedia in ten expensive volumes the most complete and authoritative work available also in paperback and on cd rom and online jourdain philip the nature of mathematics in the world of mathematics james newman editor dover isbn kline morris mathematical thought from ancient to modern times oxford university press usa paperback edition march isbn 牛津英语词典 second edition ed john simpson and edmund weiner clarendon press isbn the oxford dictionary of english etymology reprint isbn pappas theoni the joy of mathematics wide world publishing revised edition june isbn peterson ivars mathematical tourist new and updated snapshots of modern mathematics owl books isbn 参考网址 rusin dave the mathematical atlas 英文版 现代数学漫游 weisstein eric world of mathematics 一个在线的数学百科全书 数学 另一个在线的数学百科全书 mathforge 一个包含数学 物理 epistemath 数学知识 香港科技大学 数学网 一个以数学史为主的网站 怎样研习纯数学 或统计学 本科与基础研究课程参考书目 数学文化 主要面向大学生 大学老师和研究生 以及中学老师和学生 数学学习资源 互联网上数学学习资源和教学视频 英汉对照数学用语 archive 英汉对照数学用语 albany bureau of bilingual education see profile at archive\\n']\n"
     ]
    }
   ],
   "source": [
    "input_file_name = 'corpus_cn.txt'\n",
    "output_file_name = 'corpus_cn_simple.txt'\n",
    "#读取文件\n",
    "with open(input_file_name, 'r', encoding='utf-8') as input_file:\n",
    "    lines = input_file.readlines()         #逐行读取文本内容\n",
    "    count = 0\n",
    "    with open(output_file_name, 'w', encoding='utf-8') as output_file:\n",
    "  \n",
    "        for line in lines:\n",
    "            #繁体转简体，参数“zh-hans”\n",
    "            output_file.write(zhconv.convert(line, 'zh-hans'))\n",
    "            #每10000条数据输出一次结果\n",
    "            count += 1\n",
    "            if count % 10000 == 0:\n",
    "                print('已转换%d条数据' % count)\n",
    "print('处理完成！')\n",
    "#查看结果\n",
    "with open('corpus_cn_simple.txt',\"r\",encoding=\"utf8\") as f:\n",
    "    print(f.readlines()[:1])"
   ]
  },
  {
   "cell_type": "markdown",
   "metadata": {},
   "source": [
    "分词"
   ]
  },
  {
   "cell_type": "code",
   "execution_count": 8,
   "metadata": {},
   "outputs": [
    {
     "name": "stderr",
     "output_type": "stream",
     "text": [
      "Building prefix dict from the default dictionary ...\n",
      "Dumping model to file cache C:\\Users\\yan\\AppData\\Local\\Temp\\jieba.cache\n",
      "Loading model cost 0.604 seconds.\n",
      "Prefix dict has been built successfully.\n"
     ]
    },
    {
     "name": "stdout",
     "output_type": "stream",
     "text": [
      "处理完成！\n",
      "['欧几里得 西元前 三 世纪 的 古希腊 数学家 现在 被 认为 是 几何 之父 此画 为 拉斐尔 的 作品 雅典 学院 数学 是 利用 符号语言 研究 数量 结构 变化 以及 空间 等 概念 的 一门 学科 从 某种 角度看 属于 形式 科学 的 一种 数学 透过 抽象化 和 逻辑推理 的 使用 由 计数 计算 数学家 们 拓展 这些 概念 对 数学 基本概念 的 完善 早 在 古埃及 而 在 古希腊 那里 有 更为 严谨 的 处理 从 那时 开始 数学 的 发展 便 持续 不断 地 小幅 进展 世纪 的 文艺复兴 时期 致使 数学 的 加速 发展 直至 今日 今日 数学 使用 在 不同 的 领域 中 包括 科学 工程 医学 经济学 和 金融学 等 有时 亦 会 激起 新 的 数学 发现 并 导致 全新 学科 的 发展 数学家 也 研究 纯数学 就是 数学 本身 的 实质性 内容 而 不以 任何 实际 应用 为 目标 虽然 许多 研究 以 纯数学 开始 但 其 过程 中 也 发现 许多 应用 之 处 词源 西方 语言 中 数学 一 词源 自于 古希腊 语 的 其 有 学习 学问 科学 数学 研究 即使 在 其 语源 内其 形容词 意思 为 和 学习 有关 的 用功 的 亦 会 被 用来 指 数学 的 其 在 英语 中 表面 上 的 复数 形式 及 在 法语 中 的 表面 复数 形式 可溯 至 拉丁文 的 中性 复数 由 西塞罗 译自 希腊文 复数 此一 希腊语 被 亚里士多德 拿来 指 万物 皆 数 的 概念 汉字 表示 的 数学 一词 大约 产生 于 中国 宋元 时期 多指 象数 之学 但 有时 也 含有 今天 上 的 数学 意义 例如 秦九韶 的 数学 九章 永乐 大典 数书 九章 也 被 宋代 周密 所著 的 癸 辛杂 识记 为 数学 大略 数学 通轨 明代 柯尚 迁著 数学 钥 清代 杜知 耕著 数学 拾遗 清代 丁取忠 撰 直到 经过 中国 数学 名词 审查 委员会 研究 算学 数学 两词 的 使用 状况 后 确认 以 数学 表示 今天 意义 上 的 数学 含义 历史 奇普 印加帝国 时所 使用 的 计数 工具 玛雅 数字 数学 有着 久远 的 历史 中国 古代 的 六艺 之一 就 有 数学 一词 在 西方 有 希腊语 词源 mathematik ó s 意思 是 学问 的 基础 源于 m á thema 科学知识 学问 时间 的 长短 等 抽象 的 数量 关系 比如 时间 单位 有 日 季节 和 年 等 算术 加减乘除 也 自然而然 地 产生 了 历史 上 曾 有 过 许多 不同 的 记数 系统 在 最初 有 历史记录 的 时候 为 了解 数字 间 的 关系 为了 测量 土地 以及 为了 预测 天文 事件 而 形成 的 结构 空间 及 时间 方面 的 研究 到 了 世纪 算术 微积分 的 概念 也 在 此时 形成 随着 数学 转向 形式化 从古至今 数学 便 一直 不断 地 延展 且 与 科学 有 丰富 的 相互作用 两者 的 发展 都 受惠 于 彼此 在历史上 有著 许多 数学 发现 并且 直至 今日 都 不断 地有 新 的 发现 据 mikhailsevryuk 于 月 的 期刊 中 所说 数学 评论 的 创刊 年份 现已 超过 了 一百九十 万份 而且 每年 还 增加 超过 七万 五千 份 形成 纯数学 与 应用 数学 及 美学 牛顿 微积分 的 发明者 之一 每当 有 涉及 数量 结构 空间 及 变化 等 方面 的 困难 问题 时而 这 往往 也 拓展 了 数学 的 研究 范畴 一 开始 数学 的 运用 可见 于 贸易 土地 测量 及 之后 的 天文学 今日 且 数学 本身 亦 给出 了 许多 的 问题 牛顿 和 莱布尼兹 是 微积分 的 发明者 费曼 发明 了 费曼 路径 积分 这是 推理 及 物理 洞察 二者 的 产物 而 今日 的 弦 理论 亦 引申 出新 的 数学 一些 数学 只 和 生成 它 的 领域 有关 且 用来 解答 此 领域 的 更 多 问题 且 可以 成为 一般 的 数学 概念 即使 是 最纯 的 数学 通常 亦 有 实际 的 用途 此一 非比寻常 的 事实 年 诺贝尔 物理 奖得主 维格纳 称为 如同 大多数 的 研究 领域 主要 的 分歧 为 纯数学 和 应用 数学 在 应用 数学 内 又 被 分成 两大 领域 并且 变成 了 它们 自身 的 学科 统计学 和 电脑 科学 许多 数学家 谈论 数学 的 优美 其内 在 的 美学 及美 简单 一般化 即 为 美的 一种 另外 亦 包括 巧妙 的 证明 又 或者 是 加快 计算 的 数值 方法 如 快速 傅立叶 变换 高 德菲 哈罗德 哈代 在 一个 数学家 的 自白 符号语言 与 精确性 在 现代 的 符号 中此 一 图像 即 产生 自 xcosarccossin 〡 arcsincos 〡 世纪 后 才 被 发明 出来 的 在此之前 数学 以 文字 的 形式 书写 出来 这种 形式 会 限制 了 数学 的 发展 但 初学者 却常 对此 望而却步 它 被 极度 的 压缩 少量 的 符号 包含 著 大量 的 讯息 如同 音乐 符号 一般 现今 的 数学 符号 有 明确 的 语法 并且 有效 地 对 讯息 作 编码 这是 其他 书写 方式 难以 做到 的 符号化 和 形式化 使得 数学 迅速 发展 数学 语言 亦 对 初学者 而言 感到 困难 亦 困恼 著 初学者 的 开放 等 字 在 数学 里 有 著 特别 的 意思 数学 术语 亦 包括 如同 胚可积性 等 专有名词 数学 需要 比 日常用语 更 多 的 精确性 严谨 但 在 现实 应用 中 定理 希腊人 期许 著 仔细 的 论证 但 在 牛顿 的 时代 所 使用 的 方法 则 较 不 严谨 牛顿 为了 解决问题 所 做 的 定义 今日 当 大量 的 计算 难以 被 验证 时其 证明 亦 很难说 是 足够 地 严谨 公理 在 传统 的 思想 中是 不证 自明 的 真理 但 这种 想法 是 有 问题 的 在 形式 上 公理 只是 一串 符号 但 依据 哥德尔 不 完备 定理 尽管如此 在 此 意义 下 数学 作为 科学 卡尔 弗里德里希 高 斯卡尔 弗里德里希 高斯 称 数学 为 科学 的 皇后 在 拉丁 原文 以及 其 德语 对应 于 科学 的 单字 的 意思 皆 为 知识 领域 而 实际上 科学 若 认为 科学 是 只 指 物理 的 世界 时则 数学 或 至少 是 纯数学 不会 是 一门 科学 爱因斯坦 曾 如此 描述 数学 定律 越 和 现实 有关 它们 越 不 确定 若 它们 越是 确定 的话 它们 和 现实 越 不会 有关 且 因此 不是 卡尔 波普尔 所 定义 的 科学 但 在 年代 时且 波普尔 推断 大部份 的 数学 定律 如 物理 及 生物学 一样 是 假设 演绎 的 比 它 现在 看起来 更 接近 然而 其他 的 思想家 如较 著名 的 拉 卡托斯 另 一 观点 则 为 某些 科学 领域 如 理论物理 是 其 公理 为 尝试 著 符合 现实 的 数学 而 事实上 理论 物理学家 齐曼 johnziman 即 认为 科学 是 一种 公众 知识 因此 亦 包含 著 数学 在 任何 的 情况 下 减轻 了 数学 不 使用 科学 方法 的 缺点 在 史蒂芬 沃尔夫 勒姆 年 的 著作 一种 新 科学 中 他 提出 数学家 对此 的 态度 并 不 一致 且 因此 基本上 是 个 哲学家 是 低估 了 其 美学 方面 的 重要性 被 创造 如 艺术 或是 被 发现 如 科学 的 争议 大学 院系 划分 中 常见 科学 和 数学系 实际上 但 在 细节 上 却 会 分开 数学 的 各 领域 有如 反映 在 中国 算盘 上 的 一般 如上所述 了解 数字 间 的 关系 测量 土地 及 预测 天文 事件 这 四种 需要 大致 地 与 数量 结构 空间 及 变化 即 算术 代数 几何 及 分析 等 数学 上 广泛 的 子 领域 相关 连著 除了 上述 主要 的 关注 之外 至 逻辑 至 集合论 基础 至 不同 科学 的 经验 上 的 数学 应用 数学 及 较 近代 的 至 不确定性 的 严格 研究 基础 与 哲学 为了 阐明 数学 基础 并 研究 此一 架构 的 结果 就 数学 逻辑 本身 而言 现代 逻辑 被 分成 递归论 模型 论 和 证明 论 千禧年 大奖 难题 中 的 ppxpx 数学 逻辑 集合论 范畴 论 纯粹 数学 数量 数量 的 研究 起于 数 孪生 质数 猜想 及 哥德巴赫猜想 当数系 更进一步 发展 时 整数 被 视为 有理数 的 子集 而 有理数 则 包含 于 实数 中 连续 的 量 即 是 以 实数 来 表示 的 实数 则 可以 被 进一步 广义 化成 复数 从 自然数 亦 可以 推广 到 超限 数它 形式化 了 计数 至 无限 的 这 一 概念 另 一个 研究 的 领域 为 大小 阿列 夫数 自然数 整数 有理数 实数 复数 结构 这些 物件 的 结构 性质 被 探讨 于群 zhcnzhtw 等 抽象 系统 中该 些 物件 事实上 也 就是 这样 的 系统 此 为 代数 的 领域 在 此 有 一个 很 重要 的 概念 即 广义 化至 向量 空间 的 向量 它于 线性代数 中 被 研究 数量 结构 及 空间 即 变化 纯粹 数学 是 研究 抽象 结构 的 理论 结构 布尔 巴基 学派 认为 有 三种 基本 的 抽象 结构 代数 结构 序 结构 偏序 全序 拓扑 结构 邻域 极限 连通性 维数 pxpxpxpx 数论 群论 图论 序 理论 空间 空间 的 研究 源自 于 几何 尤其 是 欧几里得 几何 三角学 则 结合 了 空间 及 数且 包含 有 著名 的 勾股定理 非 欧几里得 几何 及 拓扑学 数 和 空间 在 解析几何 结合 了 数 和 空间 的 概念 亦 有 著 拓扑 群 的 研究 结合 了 结构 与 空间 李群 被 用来 研究 空间结构 及 变化 在 其 许多 分支 中 并 包含 有 存在 已久 的 庞加莱 猜想 以及 有 争议 的 四色 定理 庞加莱 猜想 已 在 年 确认 由 俄罗斯 数学家 格里 戈里 佩雷尔曼 证明 而 四色 定理 已 在 年 由凯 尼斯 阿佩尔 和 沃夫冈 哈肯 用 电脑 证明 而 从来 没有 由 人力 来 验证 过 pxpxpxpxpxpx 几何 三角学 微分 几何 拓扑学 zhcn 分形 zhtw 碎形 测度论 变化 而 微积分 更为 研究 变化 的 有利 工具 函数 诞生 于 此 做 为 描述 一 变化 的 量 的 核心 概念 而复 分析 则 为 复数 的 等价 领域 黎曼 猜想 数学 最 基本 的 未决 问题 之一 便是 以 复分析 来 描述 的 泛 函 分析 注重 在 函数 的 一般 为 无限 维空间 上 而 这 在 微分方程 中 被 研究 pxpxpxpxpxpx 微积分 向量分析 微分方程 动力系统 混沌 理论 复分析 离散数学 这 包含 有 可 计算 理论 计算 复杂性 理论 及 资讯 理论 这 包含 现知 最 有力 的 模型 图灵机 尽管 电脑 硬体 的 快速 进步 最后 且 因此 有 压缩 及 熵 等 概念 作为 一 相对 较 新 的 领域 离散数学 有 许多 基本 的 未解 问题 其中 最 有名 的 为 pnp 问题 千禧年 大奖 难题 之一 一般 相信 此 问题 的 解答 是 否定 的 pxpxpx 组合 数学计算 理论 密码学 图论 应用 数学 工商业 及其 他 领域 上 之 现实 问题 应用 数学 中 的 一 重要 领域 为 统计学 分析 与 预测 大部份 的 实验 而 比较 觉得 是 合作 团体 的 一份 子 数值 分析 研究 有 什么 计算方法 filegravitationspacesourcepng 数学 物理 filesvg 数学 流体力学 filecompositetrapezoidalruleillustrationsmallsvg 数值 分析 filemaximumboxedpng 最佳化 filetworeddicesvg 概率论 fileoldfaithfulpng 统计学 filemarketdataindexnyaonutcpng 计量 金融 filearbitrarygametreesolvedsvgzhtw 赛局 理论 zhcn 博弈论 filefrontparetosvg 数理经济学 filesignaltransductionpathwayszhcnsvg 生物 数学 filelinearprogrammingexamplegraphzhpng 作业 研究 filesimplefeedbackcontrolloopsvg 控制论 数学 奖项 菲尔 兹 奖牌 正面 数学 奖 通常 和 其他 科学 的 奖项 分开 数学 上 最 有名 的 奖为 菲尔 兹奖 创立 于 每 四年 颁奖 一次 创立 于 两者 都 颁奖 于 特定 的 工作 主题 著名 的 个 问题 称为 希尔伯特 的 个 问题 年 由 德国 数学家 大卫 希尔伯特 所 提出 另 一新 的 七个 重要 问题 称为 千禧年 大奖 难题 发表 于 而 当中 只有 一个 问题 黎曼 猜想 和 希尔伯特 的 问题 重复 菲尔 兹 奖 每 四年 颁奖 一次 颁 给 有 卓越贡献 的 年轻 数学家 每次 最多四人 得奖 得奖者 须 在 该 年 元旦 前 未满 四十岁 是 年轻 数学家 可以 获得 的 最大 奖项 它 是 据 加拿大 数学家 约翰 查尔斯 菲尔 兹 的 要求 设立 的 菲尔 兹 奖 被 视为 数学界 的 诺贝尔奖 沃尔夫 奖由 沃尔夫 基金会 颁发 该 基金会 于 年 在 以色列 创立 年 开始 颁奖 创始人 里卡多 沃尔夫 是 外交家 实业家 和 慈善家 阿贝尔 奖 每年 颁发 一次 为了 纪念 年 挪威 著名 数学家 尼尔斯 亨利 克 阿贝尔 二百 周年 诞辰 挪威政府 宣布 将 开始 颁发 此种 奖金 奖金 的 数额 大致 同 诺贝尔奖 相近 年 挪威政府 拨款 亿 挪威克朗 作为 启动资金 扩大 数学 的 影响 参见 数学 哲学 数学 游戏 数学家 列表 教育 算经十书 数学 竞赛 数学题 注记 参考书目 bensondonaldthemomentofproofmathematicalepiphaniesoxforduniversitypressusanewededitiondecemberisbnboyercarlhistoryofmathematicswileyeditionmarchisbnconcisehistoryofmathematicsfromtheconceptofnumbertocontemporarymathematicscourantandrobbinswhatismathematicsanelementaryapproachtoideasandmethodsoxforduniversitypressusaeditionjulyisbndavisphilipandhershreubenthemathematicalexperiencemarinerbooksreprinteditionjanuaryisbngentleintroductiontotheworldofmathematicseveshowardanintroductiontothehistoryofmathematicssixtheditionsaundersisbngullbergjanmathematicsfromthebirthofnumbersnortoncompanysteditionoctoberisbnanencyclopedicoverviewofmathematicspresentedinclearsimplelanguagehazewinkelmichieled 数学 百科全书 kluweracademicpublisherstranslatedandexpandedversionofsovietmathematicsencyclopediaintenexpensivevolumesthemostcompleteandauthoritativeworkavailablealsoinpaperbackandoncdromandonlinejourdainphilipthenatureofmathematicsintheworldofmathematicsjamesnewmaneditordoverisbnklinemorrismathematicalthoughtfromancienttomoderntimesoxforduniversitypressusapaperbackeditionmarchisbn 牛津 英语词典 secondeditionedjohnsimpsonandedmundweinerclarendonpressisbntheoxforddictionaryofenglishetymologyreprintisbnpappastheonithejoyofmathematicswideworldpublishingrevisededitionjuneisbnpetersonivarsmathematicaltouristnewandupdatedsnapshotsofmodernmathematicsowlbooksisbn 参考 网址 rusindavethemathematicalatlas 英文版 现代 数学 漫游 weissteinericworldofmathematics 一个 在线 的 数学 百科全书 数学 另 一个 在线 的 数学 百科全书 mathforge 一个 包含 数学 物理 epistemath 数学知识 香港科技大学 数学网 一个 以 数学史 为主 的 网站 怎样 研习 纯数学 或 统计学 本科 与 基础 研究 课程 参考书目 数学 文化 主要 面向 大学生 大学老师 和 研究生 以及 中学老师 和 学生 数学 学习 资源 互联网 上 数学 学习 资源 和 教学 视频 英汉 对照 数学 用语 archive 英汉 对照 数学 用语 albanybureauofbilingualeducationseeprofileatarchive\\n']\n"
     ]
    }
   ],
   "source": [
    "input_file_name = 'corpus_cn_simple.txt'\n",
    "output_file_name = 'corpus_cn_simple_separate.txt'\n",
    "#读取文件\n",
    "with open(input_file_name, 'r', encoding='utf-8') as input_file:   \n",
    "    lines = input_file.readlines()\n",
    "    count = 0\n",
    "    with open(output_file_name, 'w', encoding='utf-8') as output_file:\n",
    "        for line in lines:\n",
    "            # jieba分词的结果是一个list，需要拼接，但是jieba把空格回车都当成一个字符处理\n",
    "            output_file.write(' '.join(jieba.cut(line.split('\\n')[0].replace(' ', ''))) + '\\n')\n",
    "            count += 1\n",
    "            if count % 10000 == 0:\n",
    "                print('已分词%d条数据' % count)\n",
    "    print('处理完成！')\n",
    "#查看结果\n",
    "with open('corpus_cn_simple_separate.txt',\"r\",encoding=\"utf8\") as f:\n",
    "    print(f.readlines()[:1])"
   ]
  },
  {
   "cell_type": "markdown",
   "metadata": {},
   "source": [
    "去除非中文词"
   ]
  },
  {
   "cell_type": "code",
   "execution_count": 9,
   "metadata": {},
   "outputs": [
    {
     "name": "stdout",
     "output_type": "stream",
     "text": [
      "处理完成！\n",
      "['欧几里得 西元前 三 世纪 的 古希腊 数学家 现在 被 认为 是 几何 之父 此画 为 拉斐尔 的 作品 雅典 学院 数学 是 利用 符号语言 研究 数量 结构 变化 以及 空间 等 概念 的 一门 学科 从 某种 角度看 属于 形式 科学 的 一种 数学 透过 抽象化 和 逻辑推理 的 使用 由 计数 计算 数学家 们 拓展 这些 概念 对 数学 基本概念 的 完善 早 在 古埃及 而 在 古希腊 那里 有 更为 严谨 的 处理 从 那时 开始 数学 的 发展 便 持续 不断 地 小幅 进展 世纪 的 文艺复兴 时期 致使 数学 的 加速 发展 直至 今日 今日 数学 使用 在 不同 的 领域 中 包括 科学 工程 医学 经济学 和 金融学 等 有时 亦 会 激起 新 的 数学 发现 并 导致 全新 学科 的 发展 数学家 也 研究 纯数学 就是 数学 本身 的 实质性 内容 而 不以 任何 实际 应用 为 目标 虽然 许多 研究 以 纯数学 开始 但 其 过程 中 也 发现 许多 应用 之 处 词源 西方 语言 中 数学 一 词源 自于 古希腊 语 的 其 有 学习 学问 科学 数学 研究 即使 在 其 语源 内其 形容词 意思 为 和 学习 有关 的 用功 的 亦 会 被 用来 指 数学 的 其 在 英语 中 表面 上 的 复数 形式 及 在 法语 中 的 表面 复数 形式 可溯 至 拉丁文 的 中性 复数 由 西塞罗 译自 希腊文 复数 此一 希腊语 被 亚里士多德 拿来 指 万物 皆 数 的 概念 汉字 表示 的 数学 一词 大约 产生 于 中国 宋元 时期 多指 象数 之学 但 有时 也 含有 今天 上 的 数学 意义 例如 秦九韶 的 数学 九章 永乐 大典 数书 九章 也 被 宋代 周密 所著 的 癸 辛杂 识记 为 数学 大略 数学 通轨 明代 柯尚 迁著 数学 钥 清代 杜知 耕著 数学 拾遗 清代 丁取忠 撰 直到 经过 中国 数学 名词 审查 委员会 研究 算学 数学 两词 的 使用 状况 后 确认 以 数学 表示 今天 意义 上 的 数学 含义 历史 奇普 印加帝国 时所 使用 的 计数 工具 玛雅 数字 数学 有着 久远 的 历史 中国 古代 的 六艺 之一 就 有 数学 一词 在 西方 有 希腊语 词源 意思 是 学问 的 基础 源于 科学知识 学问 时间 的 长短 等 抽象 的 数量 关系 比如 时间 单位 有 日 季节 和 年 等 算术 加减乘除 也 自然而然 地 产生 了 历史 上 曾 有 过 许多 不同 的 记数 系统 在 最初 有 历史记录 的 时候 为 了解 数字 间 的 关系 为了 测量 土地 以及 为了 预测 天文 事件 而 形成 的 结构 空间 及 时间 方面 的 研究 到 了 世纪 算术 微积分 的 概念 也 在 此时 形成 随着 数学 转向 形式化 从古至今 数学 便 一直 不断 地 延展 且 与 科学 有 丰富 的 相互作用 两者 的 发展 都 受惠 于 彼此 在历史上 有著 许多 数学 发现 并且 直至 今日 都 不断 地有 新 的 发现 据 于 月 的 期刊 中 所说 数学 评论 的 创刊 年份 现已 超过 了 一百九十 万份 而且 每年 还 增加 超过 七万 五千 份 形成 纯数学 与 应用 数学 及 美学 牛顿 微积分 的 发明者 之一 每当 有 涉及 数量 结构 空间 及 变化 等 方面 的 困难 问题 时而 这 往往 也 拓展 了 数学 的 研究 范畴 一 开始 数学 的 运用 可见 于 贸易 土地 测量 及 之后 的 天文学 今日 且 数学 本身 亦 给出 了 许多 的 问题 牛顿 和 莱布尼兹 是 微积分 的 发明者 费曼 发明 了 费曼 路径 积分 这是 推理 及 物理 洞察 二者 的 产物 而 今日 的 弦 理论 亦 引申 出新 的 数学 一些 数学 只 和 生成 它 的 领域 有关 且 用来 解答 此 领域 的 更 多 问题 且 可以 成为 一般 的 数学 概念 即使 是 最纯 的 数学 通常 亦 有 实际 的 用途 此一 非比寻常 的 事实 年 诺贝尔 物理 奖得主 维格纳 称为 如同 大多数 的 研究 领域 主要 的 分歧 为 纯数学 和 应用 数学 在 应用 数学 内 又 被 分成 两大 领域 并且 变成 了 它们 自身 的 学科 统计学 和 电脑 科学 许多 数学家 谈论 数学 的 优美 其内 在 的 美学 及美 简单 一般化 即 为 美的 一种 另外 亦 包括 巧妙 的 证明 又 或者 是 加快 计算 的 数值 方法 如 快速 傅立叶 变换 高 德菲 哈罗德 哈代 在 一个 数学家 的 自白 符号语言 与 精确性 在 现代 的 符号 中此 一 图像 即 产生 自 世纪 后 才 被 发明 出来 的 在此之前 数学 以 文字 的 形式 书写 出来 这种 形式 会 限制 了 数学 的 发展 但 初学者 却常 对此 望而却步 它 被 极度 的 压缩 少量 的 符号 包含 著 大量 的 讯息 如同 音乐 符号 一般 现今 的 数学 符号 有 明确 的 语法 并且 有效 地 对 讯息 作 编码 这是 其他 书写 方式 难以 做到 的 符号化 和 形式化 使得 数学 迅速 发展 数学 语言 亦 对 初学者 而言 感到 困难 亦 困恼 著 初学者 的 开放 等 字 在 数学 里 有 著 特别 的 意思 数学 术语 亦 包括 如同 胚可积性 等 专有名词 数学 需要 比 日常用语 更 多 的 精确性 严谨 但 在 现实 应用 中 定理 希腊人 期许 著 仔细 的 论证 但 在 牛顿 的 时代 所 使用 的 方法 则 较 不 严谨 牛顿 为了 解决问题 所 做 的 定义 今日 当 大量 的 计算 难以 被 验证 时其 证明 亦 很难说 是 足够 地 严谨 公理 在 传统 的 思想 中是 不证 自明 的 真理 但 这种 想法 是 有 问题 的 在 形式 上 公理 只是 一串 符号 但 依据 哥德尔 不 完备 定理 尽管如此 在 此 意义 下 数学 作为 科学 卡尔 弗里德里希 高 斯卡尔 弗里德里希 高斯 称 数学 为 科学 的 皇后 在 拉丁 原文 以及 其 德语 对应 于 科学 的 单字 的 意思 皆 为 知识 领域 而 实际上 科学 若 认为 科学 是 只 指 物理 的 世界 时则 数学 或 至少 是 纯数学 不会 是 一门 科学 爱因斯坦 曾 如此 描述 数学 定律 越 和 现实 有关 它们 越 不 确定 若 它们 越是 确定 的话 它们 和 现实 越 不会 有关 且 因此 不是 卡尔 波普尔 所 定义 的 科学 但 在 年代 时且 波普尔 推断 大部份 的 数学 定律 如 物理 及 生物学 一样 是 假设 演绎 的 比 它 现在 看起来 更 接近 然而 其他 的 思想家 如较 著名 的 拉 卡托斯 另 一 观点 则 为 某些 科学 领域 如 理论物理 是 其 公理 为 尝试 著 符合 现实 的 数学 而 事实上 理论 物理学家 齐曼 即 认为 科学 是 一种 公众 知识 因此 亦 包含 著 数学 在 任何 的 情况 下 减轻 了 数学 不 使用 科学 方法 的 缺点 在 史蒂芬 沃尔夫 勒姆 年 的 著作 一种 新 科学 中 他 提出 数学家 对此 的 态度 并 不 一致 且 因此 基本上 是 个 哲学家 是 低估 了 其 美学 方面 的 重要性 被 创造 如 艺术 或是 被 发现 如 科学 的 争议 大学 院系 划分 中 常见 科学 和 数学系 实际上 但 在 细节 上 却 会 分开 数学 的 各 领域 有如 反映 在 中国 算盘 上 的 一般 如上所述 了解 数字 间 的 关系 测量 土地 及 预测 天文 事件 这 四种 需要 大致 地 与 数量 结构 空间 及 变化 即 算术 代数 几何 及 分析 等 数学 上 广泛 的 子 领域 相关 连著 除了 上述 主要 的 关注 之外 至 逻辑 至 集合论 基础 至 不同 科学 的 经验 上 的 数学 应用 数学 及 较 近代 的 至 不确定性 的 严格 研究 基础 与 哲学 为了 阐明 数学 基础 并 研究 此一 架构 的 结果 就 数学 逻辑 本身 而言 现代 逻辑 被 分成 递归论 模型 论 和 证明 论 千禧年 大奖 难题 中 的 数学 逻辑 集合论 范畴 论 纯粹 数学 数量 数量 的 研究 起于 数 孪生 质数 猜想 及 哥德巴赫猜想 当数系 更进一步 发展 时 整数 被 视为 有理数 的 子集 而 有理数 则 包含 于 实数 中 连续 的 量 即 是 以 实数 来 表示 的 实数 则 可以 被 进一步 广义 化成 复数 从 自然数 亦 可以 推广 到 超限 数它 形式化 了 计数 至 无限 的 这 一 概念 另 一个 研究 的 领域 为 大小 阿列 夫数 自然数 整数 有理数 实数 复数 结构 这些 物件 的 结构 性质 被 探讨 于群 等 抽象 系统 中该 些 物件 事实上 也 就是 这样 的 系统 此 为 代数 的 领域 在 此 有 一个 很 重要 的 概念 即 广义 化至 向量 空间 的 向量 它于 线性代数 中 被 研究 数量 结构 及 空间 即 变化 纯粹 数学 是 研究 抽象 结构 的 理论 结构 布尔 巴基 学派 认为 有 三种 基本 的 抽象 结构 代数 结构 序 结构 偏序 全序 拓扑 结构 邻域 极限 连通性 维数 数论 群论 图论 序 理论 空间 空间 的 研究 源自 于 几何 尤其 是 欧几里得 几何 三角学 则 结合 了 空间 及 数且 包含 有 著名 的 勾股定理 非 欧几里得 几何 及 拓扑学 数 和 空间 在 解析几何 结合 了 数 和 空间 的 概念 亦 有 著 拓扑 群 的 研究 结合 了 结构 与 空间 李群 被 用来 研究 空间结构 及 变化 在 其 许多 分支 中 并 包含 有 存在 已久 的 庞加莱 猜想 以及 有 争议 的 四色 定理 庞加莱 猜想 已 在 年 确认 由 俄罗斯 数学家 格里 戈里 佩雷尔曼 证明 而 四色 定理 已 在 年 由凯 尼斯 阿佩尔 和 沃夫冈 哈肯 用 电脑 证明 而 从来 没有 由 人力 来 验证 过 几何 三角学 微分 几何 拓扑学 分形 碎形 测度论 变化 而 微积分 更为 研究 变化 的 有利 工具 函数 诞生 于 此 做 为 描述 一 变化 的 量 的 核心 概念 而复 分析 则 为 复数 的 等价 领域 黎曼 猜想 数学 最 基本 的 未决 问题 之一 便是 以 复分析 来 描述 的 泛 函 分析 注重 在 函数 的 一般 为 无限 维空间 上 而 这 在 微分方程 中 被 研究 微积分 向量分析 微分方程 动力系统 混沌 理论 复分析 离散数学 这 包含 有 可 计算 理论 计算 复杂性 理论 及 资讯 理论 这 包含 现知 最 有力 的 模型 图灵机 尽管 电脑 硬体 的 快速 进步 最后 且 因此 有 压缩 及 熵 等 概念 作为 一 相对 较 新 的 领域 离散数学 有 许多 基本 的 未解 问题 其中 最 有名 的 为 问题 千禧年 大奖 难题 之一 一般 相信 此 问题 的 解答 是 否定 的 组合 数学计算 理论 密码学 图论 应用 数学 工商业 及其 他 领域 上 之 现实 问题 应用 数学 中 的 一 重要 领域 为 统计学 分析 与 预测 大部份 的 实验 而 比较 觉得 是 合作 团体 的 一份 子 数值 分析 研究 有 什么 计算方法 数学 物理 数学 流体力学 数值 分析 最佳化 概率论 统计学 计量 金融 赛局 理论 博弈论 数理经济学 生物 数学 作业 研究 控制论 数学 奖项 菲尔 兹 奖牌 正面 数学 奖 通常 和 其他 科学 的 奖项 分开 数学 上 最 有名 的 奖为 菲尔 兹奖 创立 于 每 四年 颁奖 一次 创立 于 两者 都 颁奖 于 特定 的 工作 主题 著名 的 个 问题 称为 希尔伯特 的 个 问题 年 由 德国 数学家 大卫 希尔伯特 所 提出 另 一新 的 七个 重要 问题 称为 千禧年 大奖 难题 发表 于 而 当中 只有 一个 问题 黎曼 猜想 和 希尔伯特 的 问题 重复 菲尔 兹 奖 每 四年 颁奖 一次 颁 给 有 卓越贡献 的 年轻 数学家 每次 最多四人 得奖 得奖者 须 在 该 年 元旦 前 未满 四十岁 是 年轻 数学家 可以 获得 的 最大 奖项 它 是 据 加拿大 数学家 约翰 查尔斯 菲尔 兹 的 要求 设立 的 菲尔 兹 奖 被 视为 数学界 的 诺贝尔奖 沃尔夫 奖由 沃尔夫 基金会 颁发 该 基金会 于 年 在 以色列 创立 年 开始 颁奖 创始人 里卡多 沃尔夫 是 外交家 实业家 和 慈善家 阿贝尔 奖 每年 颁发 一次 为了 纪念 年 挪威 著名 数学家 尼尔斯 亨利 克 阿贝尔 二百 周年 诞辰 挪威政府 宣布 将 开始 颁发 此种 奖金 奖金 的 数额 大致 同 诺贝尔奖 相近 年 挪威政府 拨款 亿 挪威克朗 作为 启动资金 扩大 数学 的 影响 参见 数学 哲学 数学 游戏 数学家 列表 教育 算经十书 数学 竞赛 数学题 注记 参考书目 数学 百科全书 牛津 英语词典 参考 网址 英文版 现代 数学 漫游 一个 在线 的 数学 百科全书 数学 另 一个 在线 的 数学 百科全书 一个 包含 数学 物理 数学知识 香港科技大学 数学网 一个 以 数学史 为主 的 网站 怎样 研习 纯数学 或 统计学 本科 与 基础 研究 课程 参考书目 数学 文化 主要 面向 大学生 大学老师 和 研究生 以及 中学老师 和 学生 数学 学习 资源 互联网 上 数学 学习 资源 和 教学 视频 英汉 对照 数学 用语 英汉 对照 数学 用语\\n']\n"
     ]
    }
   ],
   "source": [
    "# coding:utf-8\n",
    "input_file_name = 'corpus_cn_simple_separate.txt'\n",
    "output_file_name = 'corpus.txt'\n",
    "#读取文件\n",
    "with open(input_file_name, 'r', encoding='utf-8') as input_file:  \n",
    "   \n",
    "    lines = input_file.readlines()    \n",
    "    count = 1\n",
    "    cn_reg = '^[\\u4e00-\\u9fa5]+$'  #符合中文的正则表达式，^：字符串开始位置； $：字符串结尾位置\n",
    "    \n",
    "    with open(output_file_name, 'w', encoding='utf-8') as output_file:\n",
    "        \n",
    "        for line in lines:\n",
    "            line_list = line.split('\\n')[0].split(' ')\n",
    "            line_list_new = []\n",
    "            \n",
    "            for word in line_list:\n",
    "                if re.search(cn_reg, word):\n",
    "                    line_list_new.append(word) \n",
    "                    \n",
    "            output_file.write(' '.join(line_list_new) + '\\n')\n",
    "            count += 1\n",
    "            if count % 10000 == 0:\n",
    "                print('已处理%d条数据' % count)\n",
    "    print(\"处理完成！\")\n",
    "#查看结果\n",
    "with open('corpus.txt',\"r\",encoding=\"utf8\") as f:\n",
    "    print(f.readlines()[:1])"
   ]
  },
  {
   "cell_type": "markdown",
   "metadata": {},
   "source": [
    "训练词向量"
   ]
  },
  {
   "cell_type": "code",
   "execution_count": 11,
   "metadata": {},
   "outputs": [
    {
     "name": "stdout",
     "output_type": "stream",
     "text": [
      "训练模型结束...\n"
     ]
    }
   ],
   "source": [
    "input_file_name = 'corpus.txt'\n",
    "model_file_name = 'wordvec.model'\n",
    "\n",
    "sentences = word2vec.LineSentence(input_file_name)\n",
    "#word2vec模型参量的设置\n",
    "model = word2vec.Word2Vec(sentences,\n",
    "            vector_size=300,                  # 词向量长度为300\n",
    "            window=5,                 #表示当前词与预测词在一个句子中的最大距离是多少\n",
    "            min_count=5,\n",
    "            sg=0,                     #1是skip-gram，0是CBOW\n",
    "            hs=0,                     #1是hierarchical-softmax，0是negative sampling。\n",
    "                                      # hierarchical-softmax本质是把 N 分类问题变成 log(N)次二分类 \n",
    "                                      # negative sampling本质是预测总体类别的一个子集\n",
    "                                      # 二者均属于模型的训练技巧\n",
    "            negative=5,                # 负样例的个数\n",
    "            workers=multiprocessing.cpu_count())   #使用多线程进行处理\n",
    "\n",
    "model.save(model_file_name)             #保存模型\n",
    "print(\"训练模型结束...\")"
   ]
  },
  {
   "cell_type": "markdown",
   "metadata": {},
   "source": [
    "加载模型并测试效果"
   ]
  },
  {
   "cell_type": "code",
   "execution_count": 12,
   "metadata": {},
   "outputs": [
    {
     "data": {
      "text/plain": [
       "array([ 0.34529594,  0.24179251,  0.10473288,  0.1813133 , -0.00187204,\n",
       "       -0.47839245, -0.25414222,  0.39364925, -0.63092554, -0.17613098,\n",
       "       -0.05486733, -0.01311643, -0.04965291,  0.17734574,  0.10258082,\n",
       "       -0.16858317, -0.10216668,  0.28379068, -0.21361233, -0.20631056,\n",
       "       -0.25923428, -0.3837197 ,  0.29093954,  0.04620251,  0.14617884,\n",
       "        0.3421932 , -0.23460528,  0.1324716 ,  0.13800356, -0.13280304,\n",
       "       -0.0747147 ,  0.05705162,  0.10455812,  0.04380939,  0.24632953,\n",
       "       -0.02389245,  0.20322406, -0.5009905 ,  0.07769388, -0.20932104,\n",
       "       -0.04160252,  0.07472046,  0.18336317,  0.07800818,  0.14855577,\n",
       "        0.15009408, -0.36532652, -0.11441483,  0.00242643,  0.45595047,\n",
       "       -0.17194122, -0.03342921, -0.11724968,  0.07016382,  0.23549424,\n",
       "        0.17653415,  0.06583297, -0.37028906, -0.02603964, -0.00109422,\n",
       "        0.06381576, -0.22226156,  0.12218507,  0.1448392 , -0.1762116 ,\n",
       "       -0.256432  ,  0.18719646,  0.2517517 ,  0.10768884,  0.16598155,\n",
       "        0.28676096,  0.07770182,  0.3115361 ,  0.06166575,  0.28126135,\n",
       "        0.04617821, -0.05391512,  0.12302791, -0.14515741, -0.17876795,\n",
       "        0.29447967, -0.03116749, -0.27473438,  0.33926925, -0.3073778 ,\n",
       "        0.5387756 ,  0.04164309, -0.4199467 , -0.14412832,  0.02662983,\n",
       "        0.02548225,  0.11702375, -0.13371475, -0.04816396,  0.33587876,\n",
       "        0.46996245,  0.02787553,  0.29200658, -0.11990455, -0.08204431,\n",
       "       -0.30898   , -0.00837008,  0.551122  , -0.16924162, -0.0801547 ,\n",
       "        0.05474485,  0.26663163,  0.24119948, -0.02339297, -0.17472833,\n",
       "        0.05989826, -0.11768603, -0.07169088,  0.14129117,  0.11603021,\n",
       "        0.21642926, -0.3049177 , -0.22207916, -0.09951509, -0.21587592,\n",
       "       -0.09212048,  0.24691954, -0.002478  , -0.22419518, -0.1573868 ,\n",
       "        0.30720213,  0.24570227, -0.2769853 ,  0.2372034 , -0.16540642,\n",
       "       -0.06011818, -0.12485196,  0.2305246 , -0.34368238,  0.20240186,\n",
       "       -0.25735632, -0.17653033,  0.03129001, -0.00946999, -0.09782045,\n",
       "        0.01831584,  0.0629386 , -0.16885267, -0.12425639,  0.29379144,\n",
       "        0.26716214, -0.07458276,  0.14211033,  0.02726882,  0.02896313,\n",
       "        0.23876254, -0.4274605 , -0.1381875 , -0.07090902,  0.03083533,\n",
       "        0.12726955, -0.29705867, -0.37190554,  0.12317204, -0.04614094,\n",
       "        0.00448322, -0.12389275, -0.07536145, -0.08084595, -0.13821536,\n",
       "       -0.11631837, -0.06748131,  0.233634  ,  0.32723108,  0.3380983 ,\n",
       "        0.02251742,  0.00631481, -0.05298309,  0.16374877, -0.3141349 ,\n",
       "       -0.19588444, -0.02491121, -0.02840595,  0.29748303,  0.03781571,\n",
       "       -0.23541342,  0.25051406, -0.31582776, -0.27984685, -0.1764957 ,\n",
       "       -0.34184447, -0.17664519, -0.16695075, -0.07281554, -0.25830573,\n",
       "       -0.11425839, -0.13048986, -0.05535457, -0.1636056 ,  0.18317045,\n",
       "        0.20519084,  0.05046244,  0.30702344, -0.09996521, -0.04957632,\n",
       "        0.23023471,  0.03603712,  0.07982358, -0.05117933,  0.2663708 ,\n",
       "        0.17160545,  0.25541598,  0.38108963, -0.26596296,  0.08582897,\n",
       "        0.27216935, -0.3055114 ,  0.03669141,  0.27737156,  0.21861726,\n",
       "       -0.36056432, -0.167168  ,  0.30631796, -0.24175005, -0.27044916,\n",
       "        0.03855898, -0.01163153,  0.1239932 ,  0.04073071,  0.01936485,\n",
       "        0.03725296,  0.2233658 , -0.26450095, -0.15854092,  0.05416953,\n",
       "       -0.03908303, -0.12875341,  0.13601205,  0.07638045, -0.07927763,\n",
       "        0.05870353, -0.23796554,  0.10827562, -0.11911472, -0.3154048 ,\n",
       "        0.5391048 , -0.0376107 , -0.12982611,  0.09821691, -0.33442682,\n",
       "        0.0710532 , -0.19956383,  0.3745981 ,  0.15350756,  0.17845666,\n",
       "       -0.12318248,  0.0071537 ,  0.32696486, -0.2429472 , -0.36236706,\n",
       "        0.10267816,  0.1725834 ,  0.33134565, -0.13509749,  0.01448789,\n",
       "        0.23144352, -0.00507133,  0.2626588 , -0.28805223, -0.33105037,\n",
       "        0.3355145 ,  0.40464705,  0.14983325, -0.09882627,  0.14372325,\n",
       "        0.23374243, -0.04849486,  0.1296022 ,  0.1879293 ,  0.25373045,\n",
       "        0.21375747, -0.17804046,  0.14688449, -0.23352984,  0.06912332,\n",
       "        0.16802649,  0.01455045, -0.38774627, -0.02523943, -0.1080617 ,\n",
       "        0.04489091, -0.23125201, -0.5575512 ,  0.12010871,  0.17568576,\n",
       "        0.2624211 ,  0.21128464,  0.51248235,  0.00716287,  0.15469751,\n",
       "        0.24858102,  0.11477345, -0.02082733,  0.01269357, -0.23055969],\n",
       "      dtype=float32)"
      ]
     },
     "execution_count": 12,
     "metadata": {},
     "output_type": "execute_result"
    }
   ],
   "source": [
    "model_path = \"wordvec.model\"\n",
    "wordvec = word2vec.Word2Vec.load(model_path)\n",
    "#获得\"华为\"的词向量\n",
    "wordvec.wv.get_vector(\"华为\")"
   ]
  },
  {
   "cell_type": "code",
   "execution_count": 13,
   "metadata": {},
   "outputs": [
    {
     "data": {
      "text/plain": [
       "[('中国移动', 0.9154809713363647),\n",
       " ('联想集团', 0.8963241577148438),\n",
       " ('雅虎', 0.8441826701164246),\n",
       " ('持股', 0.8399478197097778),\n",
       " ('日立', 0.8335539102554321)]"
      ]
     },
     "execution_count": 13,
     "metadata": {},
     "output_type": "execute_result"
    }
   ],
   "source": [
    "#获得与\"华为\"最相近的5个词\n",
    "wordvec.wv.most_similar(\"华为\",topn=5)"
   ]
  },
  {
   "cell_type": "markdown",
   "metadata": {},
   "source": [
    "有关word2vec的具体使用方法参见https://radimrehurek.com/gensim/models/word2vec.html"
   ]
  }
 ],
 "metadata": {
  "kernelspec": {
   "display_name": "Python 3 (ipykernel)",
   "language": "python",
   "name": "python3"
  },
  "language_info": {
   "codemirror_mode": {
    "name": "ipython",
    "version": 3
   },
   "file_extension": ".py",
   "mimetype": "text/x-python",
   "name": "python",
   "nbconvert_exporter": "python",
   "pygments_lexer": "ipython3",
   "version": "3.11.4"
  }
 },
 "nbformat": 4,
 "nbformat_minor": 2
}
